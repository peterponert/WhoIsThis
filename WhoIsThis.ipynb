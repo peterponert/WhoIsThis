{
 "cells": [
  {
   "cell_type": "code",
   "execution_count": 28,
   "id": "f6771b8f-2c47-47bd-ab00-586ec607f495",
   "metadata": {},
   "outputs": [
    {
     "name": "stdout",
     "output_type": "stream",
     "text": [
      "https://www.whoisxmlapi.com/whoisserver/WhoisService?apiKey=at_4i7ByWZlXpN5cs1y8pxDBHyNvrfJG&domainName=microsoft.com\n"
     ]
    },
    {
     "data": {
      "application/json": {
       "administrativeContact": [
        {
         "city": "Redmond",
         "country": "UNITED STATES",
         "countryCode": "US",
         "email": "admin@domains.microsoft",
         "fax": "14259367329",
         "name": "Domain Administrator",
         "organization": "Microsoft Corporation",
         "postalCode": "98052",
         "rawText": "Admin Name: Domain Administrator\nAdmin Organization: Microsoft Corporation\nAdmin Street: One Microsoft Way,\nAdmin City: Redmond\nAdmin State/Province: WA\nAdmin Postal Code: 98052\nAdmin Country: US\nAdmin Phone: +1.4258828080\nAdmin Fax: +1.4259367329\nAdmin Email: admin@domains.microsoft",
         "state": "WA",
         "street1": "One Microsoft Way,",
         "telephone": "14258828080"
        }
       ],
       "audit": [
        {
         "createdDate": "2023-04-25 16:31:09 UTC",
         "updatedDate": "2023-04-25 16:31:09 UTC"
        }
       ],
       "contactEmail": [
        {}
       ],
       "createdDate": [
        {}
       ],
       "createdDateNormalized": [
        {}
       ],
       "domainName": [
        {}
       ],
       "domainNameExt": [
        {}
       ],
       "estimatedDomainAge": [
        {}
       ],
       "expiresDate": [
        {}
       ],
       "expiresDateNormalized": [
        {}
       ],
       "footer": [
        {}
       ],
       "header": [
        {}
       ],
       "nameServers": [
        {
         "hostNames": "\n      ",
         "ips": null,
         "rawText": "ns1-39.azure-dns.com\nns3-39.azure-dns.org\nns2-39.azure-dns.net\nns4-39.azure-dns.info\n"
        }
       ],
       "parseCode": [
        {}
       ],
       "rawText": [
        {}
       ],
       "registrant": [
        {
         "city": "Redmond",
         "country": "UNITED STATES",
         "countryCode": "US",
         "email": "admin@domains.microsoft",
         "fax": "14259367329",
         "name": "Domain Administrator",
         "organization": "Microsoft Corporation",
         "postalCode": "98052",
         "rawText": "Registrant Name: Domain Administrator\nRegistrant Organization: Microsoft Corporation\nRegistrant Street: One Microsoft Way,\nRegistrant City: Redmond\nRegistrant State/Province: WA\nRegistrant Postal Code: 98052\nRegistrant Country: US\nRegistrant Phone: +1.4258828080\nRegistrant Fax: +1.4259367329\nRegistrant Email: admin@domains.microsoft",
         "state": "WA",
         "street1": "One Microsoft Way,",
         "telephone": "14258828080"
        }
       ],
       "registrarIANAID": [
        {}
       ],
       "registrarName": [
        {}
       ],
       "registryData": [
        {
         "audit": "\n      ",
         "createdDate": "1991-05-02T04:00:00Z",
         "createdDateNormalized": "1991-05-02 04:00:00 UTC",
         "domainName": "microsoft.com",
         "expiresDate": "2024-05-03T04:00:00Z",
         "expiresDateNormalized": "2024-05-03 04:00:00 UTC",
         "footer": null,
         "header": null,
         "nameServers": "\n      ",
         "parseCode": "251",
         "rawText": "Domain Name: MICROSOFT.COM\n   Registry Domain ID: 2724960_DOMAIN_COM-VRSN\n   Registrar WHOIS Server: whois.markmonitor.com\n   Registrar URL: http://www.markmonitor.com\n   Updated Date: 2023-04-01T11:51:08Z\n   Creation Date: 1991-05-02T04:00:00Z\n   Registry Expiry Date: 2024-05-03T04:00:00Z\n   Registrar: MarkMonitor Inc.\n   Registrar IANA ID: 292\n   Registrar Abuse Contact Email: abusecomplaints@markmonitor.com\n   Registrar Abuse Contact Phone: +1.2086851750\n   Domain Status: clientDeleteProhibited https://icann.org/epp#clientDeleteProhibited\n   Domain Status: clientTransferProhibited https://icann.org/epp#clientTransferProhibited\n   Domain Status: clientUpdateProhibited https://icann.org/epp#clientUpdateProhibited\n   Domain Status: serverDeleteProhibited https://icann.org/epp#serverDeleteProhibited\n   Domain Status: serverTransferProhibited https://icann.org/epp#serverTransferProhibited\n   Domain Status: serverUpdateProhibited https://icann.org/epp#serverUpdateProhibited\n   Name Server: NS1-39.AZURE-DNS.COM\n   Name Server: NS2-39.AZURE-DNS.NET\n   Name Server: NS3-39.AZURE-DNS.ORG\n   Name Server: NS4-39.AZURE-DNS.INFO\n   DNSSEC: unsigned\n   URL of the ICANN Whois Inaccuracy Complaint Form: https://www.icann.org/wicf/\n>>> Last update of whois database: 2023-04-25T16:30:51Z <<<\n\nFor more information on Whois status codes, please visit https://icann.org/epp\n\nNOTICE: The expiration date displayed in this record is the date the\nregistrar's sponsorship of the domain name registration in the registry is\ncurrently set to expire. This date does not necessarily reflect the expiration\ndate of the domain name registrant's agreement with the sponsoring\nregistrar.  Users may consult the sponsoring registrar's Whois database to\nview the registrar's reported date of expiration for this registration.\n\nTERMS OF USE: You are not authorized to access or query our Whois\ndatabase through the use of electronic processes that are high-volume and\nautomated except as reasonably necessary to register domain names or\nmodify existing registrations; the Data in VeriSign Global Registry\nServices' (\"VeriSign\") Whois database is provided by VeriSign for\ninformation purposes only, and to assist persons in obtaining information\nabout or related to a domain name registration record. VeriSign does not\nguarantee its accuracy. By submitting a Whois query, you agree to abide\nby the following terms of use: You agree that you may use this Data only\nfor lawful purposes and that under no circumstances will you use this Data\nto: (1) allow, enable, or otherwise support the transmission of mass\nunsolicited, commercial advertising or solicitations via e-mail, telephone,\nor facsimile; or (2) enable high volume, automated, electronic processes\nthat apply to VeriSign (or its computer systems). The compilation,\nrepackaging, dissemination or other use of this Data is expressly\nprohibited without the prior written consent of VeriSign. You agree not to\nuse electronic processes that are automated and high-volume to access or\nquery the Whois database except as reasonably necessary to register\ndomain names or modify existing registrations. VeriSign reserves the right\nto restrict your access to the Whois database in its sole discretion to ensure\noperational stability.  VeriSign may restrict or terminate your access to the\nWhois database for failure to abide by these terms of use. VeriSign\nreserves the right to modify these terms at any time.\n\nThe Registry database contains ONLY .COM, .NET, .EDU domains and\nRegistrars.",
         "registrarIANAID": "292",
         "registrarName": "MarkMonitor Inc.",
         "status": "clientDeleteProhibited clientTransferProhibited clientUpdateProhibited serverDeleteProhibited serverTransferProhibited serverUpdateProhibited",
         "strippedText": "Domain Name: MICROSOFT.COM\nRegistry Domain ID: 2724960_DOMAIN_COM-VRSN\nRegistrar WHOIS Server: whois.markmonitor.com\nRegistrar URL: http://www.markmonitor.com\nUpdated Date: 2023-04-01T11:51:08Z\nCreation Date: 1991-05-02T04:00:00Z\nRegistry Expiry Date: 2024-05-03T04:00:00Z\nRegistrar: MarkMonitor Inc.\nRegistrar IANA ID: 292\nRegistrar Abuse Contact Email: abusecomplaints@markmonitor.com\nRegistrar Abuse Contact Phone: +1.2086851750\nDomain Status: clientDeleteProhibited https://icann.org/epp#clientDeleteProhibited\nDomain Status: clientTransferProhibited https://icann.org/epp#clientTransferProhibited\nDomain Status: clientUpdateProhibited https://icann.org/epp#clientUpdateProhibited\nDomain Status: serverDeleteProhibited https://icann.org/epp#serverDeleteProhibited\nDomain Status: serverTransferProhibited https://icann.org/epp#serverTransferProhibited\nDomain Status: serverUpdateProhibited https://icann.org/epp#serverUpdateProhibited\nName Server: NS1-39.AZURE-DNS.COM\nName Server: NS2-39.AZURE-DNS.NET\nName Server: NS3-39.AZURE-DNS.ORG\nName Server: NS4-39.AZURE-DNS.INFO\nDNSSEC: unsigned\nURL of the ICANN Whois Inaccuracy Complaint Form: https://www.icann.org/wicf/\n>>> Last update of whois database: 2023-04-25T16:30:51Z <<<\nFor more information on Whois status codes, please visit https://icann.org/epp\nNOTICE: The expiration date displayed in this record is the date the\nregistrar's sponsorship of the domain name registration in the registry is\ncurrently set to expire. This date does not necessarily reflect the expiration\ndate of the domain name registrant's agreement with the sponsoring\nregistrar.  Users may consult the sponsoring registrar's Whois database to\nview the registrar's reported date of expiration for this registration.\nTERMS OF USE: You are not authorized to access or query our Whois\ndatabase through the use of electronic processes that are high-volume and\nautomated except as reasonably necessary to register domain names or\nmodify existing registrations; the Data in VeriSign Global Registry\nServices' (\"VeriSign\") Whois database is provided by VeriSign for\ninformation purposes only, and to assist persons in obtaining information\nabout or related to a domain name registration record. VeriSign does not\nguarantee its accuracy. By submitting a Whois query, you agree to abide\nby the following terms of use: You agree that you may use this Data only\nfor lawful purposes and that under no circumstances will you use this Data\nto: (1) allow, enable, or otherwise support the transmission of mass\nunsolicited, commercial advertising or solicitations via e-mail, telephone,\nor facsimile; or (2) enable high volume, automated, electronic processes\nthat apply to VeriSign (or its computer systems). The compilation,\nrepackaging, dissemination or other use of this Data is expressly\nprohibited without the prior written consent of VeriSign. You agree not to\nuse electronic processes that are automated and high-volume to access or\nquery the Whois database except as reasonably necessary to register\ndomain names or modify existing registrations. VeriSign reserves the right\nto restrict your access to the Whois database in its sole discretion to ensure\noperational stability.  VeriSign may restrict or terminate your access to the\nWhois database for failure to abide by these terms of use. VeriSign\nreserves the right to modify these terms at any time.\nThe Registry database contains ONLY .COM, .NET, .EDU domains and\nRegistrars.\n",
         "updatedDate": "2023-04-01T11:51:08Z",
         "updatedDateNormalized": "2023-04-01 11:51:08 UTC",
         "whoisServer": "whois.markmonitor.com"
        }
       ],
       "status": [
        {}
       ],
       "strippedText": [
        {}
       ],
       "technicalContact": [
        {
         "city": "Redmond",
         "country": "UNITED STATES",
         "countryCode": "US",
         "email": "msnhst@microsoft.com",
         "fax": "14259367329",
         "name": "MSN Hostmaster",
         "organization": "Microsoft Corporation",
         "postalCode": "98052",
         "rawText": "Tech Name: MSN Hostmaster\nTech Organization: Microsoft Corporation\nTech Street: One Microsoft Way,\nTech City: Redmond\nTech State/Province: WA\nTech Postal Code: 98052\nTech Country: US\nTech Phone: +1.4258828080\nTech Fax: +1.4259367329\nTech Email: msnhst@microsoft.com",
         "state": "WA",
         "street1": "One Microsoft Way,",
         "telephone": "14258828080"
        }
       ],
       "updatedDate": [
        {}
       ],
       "updatedDateNormalized": [
        {}
       ]
      },
      "text/plain": [
       "<IPython.core.display.JSON object>"
      ]
     },
     "metadata": {
      "application/json": {
       "expanded": false,
       "root": "root"
      }
     },
     "output_type": "display_data"
    }
   ],
   "source": [
    "from pprint import pprint\n",
    "from IPython.display import display_javascript, display_html, display, JSON\n",
    "import json\n",
    "import requests\n",
    "\n",
    "import xml.etree.ElementTree as ET\n",
    "import urllib.request\n",
    "import re, collections\n",
    "from lxml import etree\n",
    "\n",
    "\n",
    "vtapikey=\"YOURSHERE\"\n",
    "\n",
    "\n",
    "DOMAIN_NAME = 'microsoft.com'\n",
    "\n",
    "\n",
    "def get_behaviour_report(domainName):\n",
    "  url = f'https://www.whoisxmlapi.com/whoisserver/WhoisService?apiKey={vtapikey}&domainName={domainName}'\n",
    "  res = urllib.request.urlopen(url).read()\n",
    "  print(url)\n",
    "  #headers = {'Accept': 'application/json', 'x-apikey': vtapikey }\n",
    "  #res = requests.get(url, headers=headers)\n",
    "  #res.raise_for_status()\n",
    "  return res\n",
    "\n",
    "#response = urllib.request.urlopen(url).read()\n",
    "\n",
    "report = get_behaviour_report(DOMAIN_NAME)\n",
    "xml = ET.fromstring(report)\n",
    "#display(report)\n",
    "\n",
    "#pprint(report)\n",
    "#display(XML(report))\n",
    "\n",
    "xml_root = etree.fromstring(report)\n",
    "raw_tree = etree.ElementTree(xml_root)\n",
    "nice_tree = collections.OrderedDict()\n",
    "     \n",
    "\n",
    "tree = raw_tree\n",
    "root = tree.getroot()\n",
    "data={}\n",
    "for child in root:\n",
    "    if child.tag not in data:\n",
    "        data[child.tag]=[]\n",
    "    dictionary={}\n",
    "    for child2 in child:\n",
    "        if child2.tag not in dic:\n",
    "            dictionary[child2.tag]=child2.text\n",
    "    data[child.tag].append(dictionary)\n",
    "\n",
    "display(JSON(data))\n",
    "#pprint(data)"
   ]
  },
  {
   "cell_type": "code",
   "execution_count": null,
   "id": "0f9b41b8-aba8-4e7d-a3cc-24722206b435",
   "metadata": {},
   "outputs": [],
   "source": []
  }
 ],
 "metadata": {
  "kernelspec": {
   "display_name": "Python 3 (ipykernel)",
   "language": "python",
   "name": "python3"
  },
  "language_info": {
   "codemirror_mode": {
    "name": "ipython",
    "version": 3
   },
   "file_extension": ".py",
   "mimetype": "text/x-python",
   "name": "python",
   "nbconvert_exporter": "python",
   "pygments_lexer": "ipython3",
   "version": "3.9.6"
  }
 },
 "nbformat": 4,
 "nbformat_minor": 5
}
